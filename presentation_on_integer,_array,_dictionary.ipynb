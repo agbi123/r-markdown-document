{
  "nbformat": 4,
  "nbformat_minor": 0,
  "metadata": {
    "colab": {
      "name": "presentation on integer, array, dictionary",
      "provenance": [],
      "collapsed_sections": [],
      "toc_visible": true,
      "authorship_tag": "ABX9TyPXrQAUdWJPv+rwq6CWqtNn",
      "include_colab_link": true
    },
    "kernelspec": {
      "name": "python3",
      "display_name": "Python 3"
    },
    "language_info": {
      "name": "python"
    }
  },
  "cells": [
    {
      "cell_type": "markdown",
      "metadata": {
        "id": "view-in-github",
        "colab_type": "text"
      },
      "source": [
        "<a href=\"https://colab.research.google.com/github/agbi123/r-markdown-document/blob/main/presentation_on_integer%2C_array%2C_dictionary.ipynb\" target=\"_parent\"><img src=\"https://colab.research.google.com/assets/colab-badge.svg\" alt=\"Open In Colab\"/></a>"
      ]
    },
    {
      "cell_type": "markdown",
      "metadata": {
        "id": "MvFyfdG7WIz-"
      },
      "source": [
        "# INTEGER\n",
        "\n"
      ]
    },
    {
      "cell_type": "markdown",
      "metadata": {
        "id": "8XApE3WPXALt"
      },
      "source": [
        "Integers are whole numbers. they don't have fractions or decimals."
      ]
    },
    {
      "cell_type": "markdown",
      "metadata": {
        "id": "nDqpUgjeWjwu"
      },
      "source": [
        "these are some examples of integer as a data structure\n"
      ]
    },
    {
      "cell_type": "code",
      "metadata": {
        "id": "jBoL7HhHWG8C"
      },
      "source": [
        "num = 3"
      ],
      "execution_count": null,
      "outputs": []
    },
    {
      "cell_type": "markdown",
      "metadata": {
        "id": "tJ-rfaccaJkp"
      },
      "source": [
        "the code below shows the data type."
      ]
    },
    {
      "cell_type": "code",
      "metadata": {
        "colab": {
          "base_uri": "https://localhost:8080/"
        },
        "id": "slZPkt1nXhj0",
        "outputId": "a2f3a293-93c3-4c12-8572-f8ef499cba96"
      },
      "source": [
        "print(type(num))"
      ],
      "execution_count": null,
      "outputs": [
        {
          "output_type": "stream",
          "text": [
            "<class 'int'>\n"
          ],
          "name": "stdout"
        }
      ]
    },
    {
      "cell_type": "markdown",
      "metadata": {
        "id": "8PCc1PH7YDD4"
      },
      "source": [
        "some arithemetic calculations\n"
      ]
    },
    {
      "cell_type": "code",
      "metadata": {
        "colab": {
          "base_uri": "https://localhost:8080/"
        },
        "id": "k9uwPElIYJ93",
        "outputId": "96101b42-dfcf-4560-fce8-1985e58f8314"
      },
      "source": [
        "num_1 = 34\n",
        "num_2 = 5\n",
        "print(num_1 + num_2)\n",
        "print(num_1 - num_2)\n",
        "print(num_1 / num_2)\n",
        "print(num_1*2)"
      ],
      "execution_count": null,
      "outputs": [
        {
          "output_type": "stream",
          "text": [
            "39\n",
            "29\n",
            "6.8\n",
            "68\n"
          ],
          "name": "stdout"
        }
      ]
    },
    {
      "cell_type": "markdown",
      "metadata": {
        "id": "bqXbBQ8NZM1g"
      },
      "source": [
        "# ARRAYS"
      ]
    },
    {
      "cell_type": "markdown",
      "metadata": {
        "id": "zes88O58ZYth"
      },
      "source": [
        "Arrays can be defined as a set of elements that are of the say data type. they are designed to carryout mathematical computations."
      ]
    },
    {
      "cell_type": "code",
      "metadata": {
        "id": "ZDBXYyrcZW5Y"
      },
      "source": [
        "import numpy as np"
      ],
      "execution_count": null,
      "outputs": []
    },
    {
      "cell_type": "code",
      "metadata": {
        "colab": {
          "base_uri": "https://localhost:8080/"
        },
        "id": "9HhtvDLBea2n",
        "outputId": "77eb8699-cbaa-4938-9a59-7b9cfe7d234c"
      },
      "source": [
        "arr = np.array([2,2,3,3,5])\n",
        "multi = arr * 3\n",
        "print(multi)"
      ],
      "execution_count": null,
      "outputs": [
        {
          "output_type": "stream",
          "text": [
            "[ 6  6  9  9 15]\n"
          ],
          "name": "stdout"
        }
      ]
    },
    {
      "cell_type": "markdown",
      "metadata": {
        "id": "C-0Bfy_we7d-"
      },
      "source": [
        "#using the array module\n",
        "integer type module and character type  module"
      ]
    },
    {
      "cell_type": "markdown",
      "metadata": {
        "id": "zPt-vTIHhBNv"
      },
      "source": [
        "i - integer type \n",
        "u - character type"
      ]
    },
    {
      "cell_type": "markdown",
      "metadata": {
        "id": "hXt-8yWEAAGD"
      },
      "source": [
        ""
      ]
    },
    {
      "cell_type": "code",
      "metadata": {
        "colab": {
          "base_uri": "https://localhost:8080/"
        },
        "id": "eQ6Sta7VfYre",
        "outputId": "bd23aee0-d470-48ee-9400-94ebfe4acd08"
      },
      "source": [
        "from array import *\n",
        "num = array(\"i\",[1,4,5,4,8,4])\n",
        "for i in num:\n",
        "  print(i)"
      ],
      "execution_count": null,
      "outputs": [
        {
          "output_type": "stream",
          "text": [
            "1\n",
            "4\n",
            "5\n",
            "4\n",
            "8\n",
            "4\n"
          ],
          "name": "stdout"
        }
      ]
    },
    {
      "cell_type": "code",
      "metadata": {
        "colab": {
          "base_uri": "https://localhost:8080/"
        },
        "id": "kwTc8zRphmjM",
        "outputId": "11d5f4cb-9ad4-4602-efa1-c871fc0d0d7a"
      },
      "source": [
        "from array import *\n",
        "vowels = array(\"u\",['a','e','i','o','c'])\n",
        "for i in vowels:\n",
        "  print(i)"
      ],
      "execution_count": null,
      "outputs": [
        {
          "output_type": "stream",
          "text": [
            "a\n",
            "e\n",
            "i\n",
            "o\n",
            "c\n"
          ],
          "name": "stdout"
        }
      ]
    },
    {
      "cell_type": "markdown",
      "metadata": {
        "id": "JYAeCoSrlUVI"
      },
      "source": [
        "# DICTIONARY\n"
      ]
    },
    {
      "cell_type": "markdown",
      "metadata": {
        "id": "wFzqy1nIn45F"
      },
      "source": [
        "Dictionary allows the user to work with key value pairs.\n",
        "it consist of both the input and output data."
      ]
    },
    {
      "cell_type": "code",
      "metadata": {
        "colab": {
          "base_uri": "https://localhost:8080/"
        },
        "id": "k4JRJy00mKWd",
        "outputId": "b5170e7d-2c82-4612-8863-9e8e20228838"
      },
      "source": [
        "students = {'name': 'john', 'age': 20, 'course': ['maths','english']}\n",
        "print(students)\n",
        "type(students)"
      ],
      "execution_count": null,
      "outputs": [
        {
          "output_type": "stream",
          "text": [
            "{'name': 'john', 'age': 20, 'course': ['maths', 'english']}\n"
          ],
          "name": "stdout"
        },
        {
          "output_type": "execute_result",
          "data": {
            "text/plain": [
              "dict"
            ]
          },
          "metadata": {
            "tags": []
          },
          "execution_count": 50
        }
      ]
    },
    {
      "cell_type": "markdown",
      "metadata": {
        "id": "_ZXFtxFpsl2c"
      },
      "source": [
        "#accessing data in a dictionary\n"
      ]
    },
    {
      "cell_type": "code",
      "metadata": {
        "colab": {
          "base_uri": "https://localhost:8080/",
          "height": 163
        },
        "id": "F1PT2j6zssU6",
        "outputId": "56c54967-a782-40c9-cd18-208a34dd5303"
      },
      "source": [
        "print(students['class'])"
      ],
      "execution_count": null,
      "outputs": [
        {
          "output_type": "error",
          "ename": "KeyError",
          "evalue": "ignored",
          "traceback": [
            "\u001b[0;31m---------------------------------------------------------------------------\u001b[0m",
            "\u001b[0;31mKeyError\u001b[0m                                  Traceback (most recent call last)",
            "\u001b[0;32m<ipython-input-57-62913709bddf>\u001b[0m in \u001b[0;36m<module>\u001b[0;34m()\u001b[0m\n\u001b[0;32m----> 1\u001b[0;31m \u001b[0mprint\u001b[0m\u001b[0;34m(\u001b[0m\u001b[0mstudents\u001b[0m\u001b[0;34m[\u001b[0m\u001b[0;34m'class'\u001b[0m\u001b[0;34m]\u001b[0m\u001b[0;34m)\u001b[0m\u001b[0;34m\u001b[0m\u001b[0;34m\u001b[0m\u001b[0m\n\u001b[0m",
            "\u001b[0;31mKeyError\u001b[0m: 'class'"
          ]
        }
      ]
    },
    {
      "cell_type": "code",
      "metadata": {
        "id": "fvV7JxnODAHt"
      },
      "source": [
        "students['School'] = \"wofgs\""
      ],
      "execution_count": null,
      "outputs": []
    },
    {
      "cell_type": "code",
      "metadata": {
        "colab": {
          "base_uri": "https://localhost:8080/"
        },
        "id": "D0L6FbyZD_Rh",
        "outputId": "5bc05f7d-f8b7-4bae-ee77-cccb16d8515f"
      },
      "source": [
        "print(students)"
      ],
      "execution_count": null,
      "outputs": [
        {
          "output_type": "stream",
          "text": [
            "{'name': 'john', 'age': 20, 'course': ['maths', 'english'], 'School': 'HURU'}\n"
          ],
          "name": "stdout"
        }
      ]
    },
    {
      "cell_type": "code",
      "metadata": {
        "id": "kfb8bfGtEJXU"
      },
      "source": [
        "students['School'] = \"HURU\""
      ],
      "execution_count": null,
      "outputs": []
    }
  ]
}